{
 "cells": [
  {
   "cell_type": "code",
   "execution_count": 4,
   "id": "082791e5-c1d1-4c60-bab5-ca912321bb06",
   "metadata": {},
   "outputs": [
    {
     "name": "stdin",
     "output_type": "stream",
     "text": [
      "Enter the number: 9\n",
      "Enter the number: 6\n"
     ]
    },
    {
     "name": "stdout",
     "output_type": "stream",
     "text": [
      "(15, 3, 54, 1.5)\n"
     ]
    }
   ],
   "source": [
    "def Arithmatic(a,b):\n",
    "  return a+b,a-b,a*b,a/b\n",
    "a=int(input(\"Enter the number:\"))\n",
    "b=int(input(\"Enter the number:\"))\n",
    "print(Arithmatic(a,b))"
   ]
  },
  {
   "cell_type": "code",
   "execution_count": null,
   "id": "fa82d19e-ff7c-45a8-930f-3ffcd675ce69",
   "metadata": {},
   "outputs": [],
   "source": []
  }
 ],
 "metadata": {
  "kernelspec": {
   "display_name": "Python 3 (ipykernel)",
   "language": "python",
   "name": "python3"
  },
  "language_info": {
   "codemirror_mode": {
    "name": "ipython",
    "version": 3
   },
   "file_extension": ".py",
   "mimetype": "text/x-python",
   "name": "python",
   "nbconvert_exporter": "python",
   "pygments_lexer": "ipython3",
   "version": "3.12.4"
  }
 },
 "nbformat": 4,
 "nbformat_minor": 5
}
