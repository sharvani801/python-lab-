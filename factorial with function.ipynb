{
 "cells": [
  {
   "cell_type": "code",
   "execution_count": 1,
   "id": "eaea300a-6ad2-4b33-99d0-1d0094b39e82",
   "metadata": {},
   "outputs": [
    {
     "name": "stdin",
     "output_type": "stream",
     "text": [
      " 5\n"
     ]
    },
    {
     "name": "stdout",
     "output_type": "stream",
     "text": [
      "120\n"
     ]
    }
   ],
   "source": [
    "def fact(n):\n",
    "    fact=1\n",
    "    for i in range(1,n+1):\n",
    "        fact = fact*i\n",
    "    return fact \n",
    "n= int(input())\n",
    "print(fact(n))"
   ]
  },
  {
   "cell_type": "code",
   "execution_count": null,
   "id": "ff2fd1f8-0d0c-48cd-bea7-aefe4799819a",
   "metadata": {},
   "outputs": [],
   "source": []
  }
 ],
 "metadata": {
  "kernelspec": {
   "display_name": "Python 3 (ipykernel)",
   "language": "python",
   "name": "python3"
  },
  "language_info": {
   "codemirror_mode": {
    "name": "ipython",
    "version": 3
   },
   "file_extension": ".py",
   "mimetype": "text/x-python",
   "name": "python",
   "nbconvert_exporter": "python",
   "pygments_lexer": "ipython3",
   "version": "3.12.4"
  }
 },
 "nbformat": 4,
 "nbformat_minor": 5
}
