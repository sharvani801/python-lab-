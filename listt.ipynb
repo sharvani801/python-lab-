{
 "cells": [
  {
   "cell_type": "code",
   "execution_count": 1,
   "id": "54a25705-65d4-4214-b799-c58b2c8f6793",
   "metadata": {},
   "outputs": [
    {
     "name": "stdout",
     "output_type": "stream",
     "text": [
      "[8, 5, 'r', 'python']\n"
     ]
    }
   ],
   "source": [
    "a=[8,5,\"r\",\"python\"]\n",
    "print(a)"
   ]
  },
  {
   "cell_type": "code",
   "execution_count": 3,
   "id": "1cf0a579-bf28-4af5-8cd7-fdacaa5a3e54",
   "metadata": {},
   "outputs": [
    {
     "data": {
      "text/plain": [
       "list"
      ]
     },
     "execution_count": 3,
     "metadata": {},
     "output_type": "execute_result"
    }
   ],
   "source": [
    "type(a)"
   ]
  },
  {
   "cell_type": "code",
   "execution_count": 4,
   "id": "1659861c-d2bf-4b9b-9477-6a27d83e3fe5",
   "metadata": {},
   "outputs": [
    {
     "name": "stdout",
     "output_type": "stream",
     "text": [
      "[1, 2, 3, 4]\n"
     ]
    }
   ],
   "source": [
    "num=[1,2,3,4]\n",
    "print(num)"
   ]
  },
  {
   "cell_type": "code",
   "execution_count": 5,
   "id": "89265b54-f4b2-46cd-ac0a-bde5416b81e5",
   "metadata": {},
   "outputs": [
    {
     "name": "stdout",
     "output_type": "stream",
     "text": [
      "['a', 'r', 'j']\n"
     ]
    }
   ],
   "source": [
    "# character values\n",
    "letter=[\"a\",\"r\",\"j\"]\n",
    "print(letter)"
   ]
  },
  {
   "cell_type": "code",
   "execution_count": 6,
   "id": "4ae24900-7cce-4887-a387-e90e57300bdb",
   "metadata": {},
   "outputs": [
    {
     "name": "stdout",
     "output_type": "stream",
     "text": [
      "[1.56, 8.4, 8.9, 5.0]\n"
     ]
    }
   ],
   "source": [
    "# float values\n",
    "a=[1.56,8.4,8.9,5.0]\n",
    "print(a)"
   ]
  },
  {
   "cell_type": "code",
   "execution_count": 7,
   "id": "dddec104-20a4-4c5b-9ee0-4f08efa6c5f2",
   "metadata": {},
   "outputs": [
    {
     "name": "stdout",
     "output_type": "stream",
     "text": [
      "[1, 12.5, 'a', 'python']\n"
     ]
    }
   ],
   "source": [
    "mix=[1,12.5,\"a\",\"python\"]\n",
    "print(mix)"
   ]
  },
  {
   "cell_type": "code",
   "execution_count": 8,
   "id": "8aefc12a-3b48-4d2d-a3dd-0f4eb9a79954",
   "metadata": {},
   "outputs": [
    {
     "name": "stdout",
     "output_type": "stream",
     "text": [
      "[[1, 9], ['a', 't']]\n"
     ]
    }
   ],
   "source": [
    "# paren list[],childlist[]\n",
    "x=[[1,9],[\"a\",\"t\"]]\n",
    "print(x)"
   ]
  },
  {
   "cell_type": "code",
   "execution_count": 9,
   "id": "4ea72380-edaf-4e1f-94f4-769f46577ecd",
   "metadata": {},
   "outputs": [
    {
     "name": "stdout",
     "output_type": "stream",
     "text": [
      "[[1.6, 8.8, 8.9], ['a', 'o', 'y'], ['apple', 'dog']]\n"
     ]
    }
   ],
   "source": [
    "y=[[1.6,8.8,8.9],[\"a\",\"o\",\"y\"],[\"apple\",\"dog\"]]\n",
    "print(y)\n",
    "   "
   ]
  },
  {
   "cell_type": "code",
   "execution_count": 10,
   "id": "c993798b-0a6e-4582-9011-423c8b6e2d54",
   "metadata": {},
   "outputs": [
    {
     "name": "stdout",
     "output_type": "stream",
     "text": [
      "5\n"
     ]
    }
   ],
   "source": [
    "# range of elements\n",
    "a=[5,12.4,\"a\",\"python\"]\n",
    "print(a[0])"
   ]
  },
  {
   "cell_type": "code",
   "execution_count": 11,
   "id": "af0c00b0-0e3c-495e-b03b-1a8568c4423d",
   "metadata": {},
   "outputs": [
    {
     "name": "stdout",
     "output_type": "stream",
     "text": [
      "a\n"
     ]
    }
   ],
   "source": [
    "print(a[2])"
   ]
  },
  {
   "cell_type": "code",
   "execution_count": 12,
   "id": "7f4085ec-c043-4c40-9c83-0e6bde23b8e8",
   "metadata": {},
   "outputs": [
    {
     "name": "stdout",
     "output_type": "stream",
     "text": [
      "python\n"
     ]
    }
   ],
   "source": [
    "print(a[-1])"
   ]
  },
  {
   "cell_type": "code",
   "execution_count": 14,
   "id": "38f79f47-210a-4e8c-a7a9-9f6e5061030f",
   "metadata": {},
   "outputs": [
    {
     "name": "stdout",
     "output_type": "stream",
     "text": [
      "a\n"
     ]
    }
   ],
   "source": [
    "print(a[-2])"
   ]
  },
  {
   "cell_type": "code",
   "execution_count": 15,
   "id": "203f8bdd-2ece-4938-a4c4-8fd506157093",
   "metadata": {},
   "outputs": [
    {
     "name": "stdout",
     "output_type": "stream",
     "text": [
      "12.4\n"
     ]
    }
   ],
   "source": [
    "print(a[-3])"
   ]
  },
  {
   "cell_type": "code",
   "execution_count": 16,
   "id": "6dbcf9f2-5e89-4a49-b3d4-2e7511b8efbe",
   "metadata": {},
   "outputs": [
    {
     "name": "stdout",
     "output_type": "stream",
     "text": [
      "[1, 12.5]\n"
     ]
    }
   ],
   "source": [
    "a=[1,12.5,\"a\",\"python\"]\n",
    "print(a[ :2])"
   ]
  },
  {
   "cell_type": "code",
   "execution_count": 17,
   "id": "fb54b9c3-c0a8-4275-8afc-1e38782c54f2",
   "metadata": {},
   "outputs": [
    {
     "name": "stdout",
     "output_type": "stream",
     "text": [
      "[12.5]\n"
     ]
    }
   ],
   "source": [
    "print(a[1:2])"
   ]
  },
  {
   "cell_type": "code",
   "execution_count": 18,
   "id": "4358da7f-e035-4c4a-90be-724203b735e8",
   "metadata": {},
   "outputs": [
    {
     "name": "stdout",
     "output_type": "stream",
     "text": [
      "[1, 12.5]\n"
     ]
    }
   ],
   "source": [
    "print(a[0:2])"
   ]
  },
  {
   "cell_type": "code",
   "execution_count": 22,
   "id": "b89c46c5-83c5-4d52-802a-a0eb6ac3efdf",
   "metadata": {},
   "outputs": [
    {
     "ename": "ValueError",
     "evalue": "slice step cannot be zero",
     "output_type": "error",
     "traceback": [
      "\u001b[1;31m---------------------------------------------------------------------------\u001b[0m",
      "\u001b[1;31mValueError\u001b[0m                                Traceback (most recent call last)",
      "Cell \u001b[1;32mIn[22], line 1\u001b[0m\n\u001b[1;32m----> 1\u001b[0m \u001b[38;5;28mprint\u001b[39m(a[ ::\u001b[38;5;241m0\u001b[39m])\n",
      "\u001b[1;31mValueError\u001b[0m: slice step cannot be zero"
     ]
    }
   ],
   "source": [
    "print(a[ ::3])"
   ]
  },
  {
   "cell_type": "markdown",
   "id": "695f6eff-6c0b-4b84-960e-69fcfda85627",
   "metadata": {},
   "source": []
  },
  {
   "cell_type": "code",
   "execution_count": null,
   "id": "e2dac16d-6ee9-4f59-9599-e65f3c82c01a",
   "metadata": {},
   "outputs": [],
   "source": []
  }
 ],
 "metadata": {
  "kernelspec": {
   "display_name": "Python 3 (ipykernel)",
   "language": "python",
   "name": "python3"
  },
  "language_info": {
   "codemirror_mode": {
    "name": "ipython",
    "version": 3
   },
   "file_extension": ".py",
   "mimetype": "text/x-python",
   "name": "python",
   "nbconvert_exporter": "python",
   "pygments_lexer": "ipython3",
   "version": "3.12.4"
  }
 },
 "nbformat": 4,
 "nbformat_minor": 5
}
