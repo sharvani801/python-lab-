{
 "cells": [
  {
   "cell_type": "code",
   "execution_count": 7,
   "id": "a8a9498c-83c4-4c81-99b9-bf579a50191b",
   "metadata": {},
   "outputs": [
    {
     "name": "stdin",
     "output_type": "stream",
     "text": [
      " 4\n",
      " 1\n",
      " 2\n",
      " 3\n",
      " 4\n"
     ]
    },
    {
     "name": "stdout",
     "output_type": "stream",
     "text": [
      "[1, 2, 3, 4]\n",
      "(1, 2, 3, 4)\n"
     ]
    }
   ],
   "source": [
    "n = int(input())\n",
    "my_list = []\n",
    "for i in range(n):\n",
    "  element = int(input())\n",
    "  my_list.append(element)\n",
    "print(my_list)\n",
    "print(tuple(my_list))"
   ]
  },
  {
   "cell_type": "code",
   "execution_count": null,
   "id": "6eaa5ee0-3229-4122-8f15-f87be221959f",
   "metadata": {},
   "outputs": [],
   "source": []
  }
 ],
 "metadata": {
  "kernelspec": {
   "display_name": "Python 3 (ipykernel)",
   "language": "python",
   "name": "python3"
  },
  "language_info": {
   "codemirror_mode": {
    "name": "ipython",
    "version": 3
   },
   "file_extension": ".py",
   "mimetype": "text/x-python",
   "name": "python",
   "nbconvert_exporter": "python",
   "pygments_lexer": "ipython3",
   "version": "3.12.4"
  }
 },
 "nbformat": 4,
 "nbformat_minor": 5
}
