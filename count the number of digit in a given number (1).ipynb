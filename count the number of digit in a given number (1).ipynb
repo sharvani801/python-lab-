{
 "cells": [
  {
   "cell_type": "code",
   "execution_count": 1,
   "id": "daf8e7ad-d5c8-4988-8cb1-8ff86d8030fb",
   "metadata": {},
   "outputs": [
    {
     "name": "stdin",
     "output_type": "stream",
     "text": [
      " 5154\n"
     ]
    },
    {
     "name": "stdout",
     "output_type": "stream",
     "text": [
      "515\n"
     ]
    }
   ],
   "source": [
    "n=int(input())\n",
    "new_number=n//10               # remove the last digit\n",
    "print(new_number)"
   ]
  },
  {
   "cell_type": "code",
   "execution_count": 6,
   "id": "3c2f11cb-feda-4bbc-9185-f866ea5ea6d9",
   "metadata": {},
   "outputs": [
    {
     "name": "stdin",
     "output_type": "stream",
     "text": [
      " 515\n"
     ]
    },
    {
     "name": "stdout",
     "output_type": "stream",
     "text": [
      "The number of digits is:  3\n"
     ]
    }
   ],
   "source": [
    "a=int(input())\n",
    "count=0\n",
    "while a>0:\n",
    "   a=a//10\n",
    "   count=count+1\n",
    "print(\"The number of digits is: \",count)\n"
   ]
  },
  {
   "cell_type": "code",
   "execution_count": 11,
   "id": "8fa760d2-b45b-4ec3-9988-14d0bc677a96",
   "metadata": {},
   "outputs": [
    {
     "name": "stdin",
     "output_type": "stream",
     "text": [
      "Enter a number: 5\n",
      "Enter a number: 10\n"
     ]
    },
    {
     "name": "stdout",
     "output_type": "stream",
     "text": [
      "45\n"
     ]
    }
   ],
   "source": [
    "a=int(input(\"Enter a number:\"))\n",
    "b=int(input(\"Enter a number:\"))\n",
    "sum=0\n",
    "i=a\n",
    "while i<=b:\n",
    "    sum=sum+i\n",
    "    i=i+1\n",
    "print(sum)"
   ]
  },
  {
   "cell_type": "code",
   "execution_count": null,
   "id": "1753a1d8-b56f-4c5d-a9e4-ce6158457b50",
   "metadata": {},
   "outputs": [],
   "source": []
  }
 ],
 "metadata": {
  "kernelspec": {
   "display_name": "Python 3 (ipykernel)",
   "language": "python",
   "name": "python3"
  },
  "language_info": {
   "codemirror_mode": {
    "name": "ipython",
    "version": 3
   },
   "file_extension": ".py",
   "mimetype": "text/x-python",
   "name": "python",
   "nbconvert_exporter": "python",
   "pygments_lexer": "ipython3",
   "version": "3.12.4"
  }
 },
 "nbformat": 4,
 "nbformat_minor": 5
}
