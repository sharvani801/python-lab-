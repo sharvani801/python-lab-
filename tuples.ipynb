{
 "cells": [
  {
   "cell_type": "code",
   "execution_count": 3,
   "id": "44f4b766-d321-433a-99e6-311b0961df1b",
   "metadata": {},
   "outputs": [
    {
     "name": "stdout",
     "output_type": "stream",
     "text": [
      "('hello',)\n",
      "(('hello',),)\n",
      "((('hello',),),)\n"
     ]
    }
   ],
   "source": [
    "Tuple=(\"hello\")\n",
    "n=3\n",
    "for i in range(int(n)):\n",
    "    Tuple=(Tuple,)\n",
    "    print(Tuple)"
   ]
  },
  {
   "cell_type": "code",
   "execution_count": 4,
   "id": "298c6eea-0fc5-434a-a021-c142da516cbc",
   "metadata": {},
   "outputs": [
    {
     "name": "stdout",
     "output_type": "stream",
     "text": [
      "5\n"
     ]
    }
   ],
   "source": [
    "tuple=(\"developer\",5,8.9,\"r\",8)\n",
    "print(len(tuple))"
   ]
  },
  {
   "cell_type": "code",
   "execution_count": 5,
   "id": "2d593ede-2495-478d-a669-64cca6903054",
   "metadata": {},
   "outputs": [
    {
     "name": "stdout",
     "output_type": "stream",
     "text": [
      "89\n"
     ]
    }
   ],
   "source": [
    "tuple=(9,8,89,4,8)\n",
    "print(max(tuple))"
   ]
  },
  {
   "cell_type": "code",
   "execution_count": 6,
   "id": "21fff0b5-174c-485a-a0b4-9af6116fe1a6",
   "metadata": {},
   "outputs": [
    {
     "name": "stdout",
     "output_type": "stream",
     "text": [
      "4\n"
     ]
    }
   ],
   "source": [
    "tuple=(9,8,89,4,8)\n",
    "print(min(tuple))"
   ]
  },
  {
   "cell_type": "code",
   "execution_count": 7,
   "id": "7d90ae59-8314-457f-b326-1a365d7d1ba7",
   "metadata": {},
   "outputs": [
    {
     "name": "stdout",
     "output_type": "stream",
     "text": [
      "118\n"
     ]
    }
   ],
   "source": [
    "tuple=(9,8,89,4,8)\n",
    "print(sum(tuple))"
   ]
  },
  {
   "cell_type": "code",
   "execution_count": 9,
   "id": "21cf28e8-d5fd-47db-abab-f8052e94a8e7",
   "metadata": {},
   "outputs": [
    {
     "name": "stdout",
     "output_type": "stream",
     "text": [
      "[4, 5, 8, 9, 89]\n"
     ]
    }
   ],
   "source": [
    "tuple=(9,5,89,4,8)\n",
    "print(sorted(tuple))"
   ]
  },
  {
   "cell_type": "code",
   "execution_count": 10,
   "id": "91e23d06-6253-486a-b21c-028b304d19f7",
   "metadata": {},
   "outputs": [
    {
     "name": "stdout",
     "output_type": "stream",
     "text": [
      "True\n"
     ]
    }
   ],
   "source": [
    "tuple=(0,1)\n",
    "print(any(tuple))"
   ]
  },
  {
   "cell_type": "code",
   "execution_count": 11,
   "id": "f07384d0-c540-4482-bd91-67344335e5a0",
   "metadata": {},
   "outputs": [
    {
     "name": "stdout",
     "output_type": "stream",
     "text": [
      "True\n"
     ]
    }
   ],
   "source": [
    "tuple=(9,5)\n",
    "print(any(tuple))"
   ]
  },
  {
   "cell_type": "code",
   "execution_count": 15,
   "id": "0b4237d3-4a37-4ee8-97a6-db4b739f7730",
   "metadata": {},
   "outputs": [
    {
     "name": "stdout",
     "output_type": "stream",
     "text": [
      "False\n"
     ]
    }
   ],
   "source": [
    "tuple=(0,)\n",
    "print(any(tuple))"
   ]
  },
  {
   "cell_type": "code",
   "execution_count": 16,
   "id": "7634ace2-e131-4a2a-a203-c07d6cabe793",
   "metadata": {},
   "outputs": [
    {
     "name": "stdout",
     "output_type": "stream",
     "text": [
      "True\n"
     ]
    }
   ],
   "source": [
    "tuple=(4,1)\n",
    "print(all(tuple))"
   ]
  },
  {
   "cell_type": "code",
   "execution_count": 17,
   "id": "d89db7ba-ac2f-44af-8f03-0f59ad0dca66",
   "metadata": {},
   "outputs": [
    {
     "name": "stdout",
     "output_type": "stream",
     "text": [
      "False\n"
     ]
    }
   ],
   "source": [
    "tuple=(0,5,7)\n",
    "print(all(tuple))"
   ]
  },
  {
   "cell_type": "code",
   "execution_count": 18,
   "id": "eb9ecceb-6841-41cf-b77f-92a322a5321a",
   "metadata": {},
   "outputs": [
    {
     "name": "stdout",
     "output_type": "stream",
     "text": [
      "True\n"
     ]
    }
   ],
   "source": [
    "tuple=()\n",
    "print(all(tuple))"
   ]
  },
  {
   "cell_type": "code",
   "execution_count": 20,
   "id": "17bd28be-10ab-461c-b8ef-b72db68377c5",
   "metadata": {},
   "outputs": [
    {
     "name": "stdout",
     "output_type": "stream",
     "text": [
      "apple\n",
      "byte\n",
      "computer\n"
     ]
    }
   ],
   "source": [
    "tuple=(\"apple\",\"byte\",\"computer\")\n",
    "for i in tuple:\n",
    "    print(i)"
   ]
  },
  {
   "cell_type": "code",
   "execution_count": 21,
   "id": "2682af3b-18c2-4af5-8052-7d61da140bae",
   "metadata": {},
   "outputs": [
    {
     "name": "stdout",
     "output_type": "stream",
     "text": [
      "apple\n",
      "byte\n"
     ]
    }
   ],
   "source": [
    "tuple=(\"apple\",\"byte\",\"computer\")\n",
    "n=2\n",
    "for i in range(n):\n",
    "    print(tuple[i])"
   ]
  },
  {
   "cell_type": "code",
   "execution_count": 22,
   "id": "a1ba62eb-9d5c-47c5-b80e-48b0aac2da77",
   "metadata": {},
   "outputs": [
    {
     "name": "stdout",
     "output_type": "stream",
     "text": [
      "apple\n"
     ]
    }
   ],
   "source": [
    "tuple=(\"apple\",\"byte\",\"computer\")\n",
    "n=2\n",
    "for i in range(n):\n",
    "    print(tuple[i])\n",
    "    break"
   ]
  },
  {
   "cell_type": "code",
   "execution_count": 23,
   "id": "f028e35b-d0c3-4ab2-a8e4-8679d2a5de8f",
   "metadata": {},
   "outputs": [
    {
     "name": "stdout",
     "output_type": "stream",
     "text": [
      "['apple', 'byte', 'computer']\n"
     ]
    }
   ],
   "source": [
    "tuple=(\"apple\",\"byte\",\"computer\")\n",
    "print(list(tuple))"
   ]
  },
  {
   "cell_type": "code",
   "execution_count": 24,
   "id": "05ba4280-f396-4d8f-9a06-21c27f9dd46b",
   "metadata": {},
   "outputs": [
    {
     "name": "stdout",
     "output_type": "stream",
     "text": [
      "2\n",
      "1\n",
      "0\n"
     ]
    }
   ],
   "source": [
    "tuple=(3,7,\"p\",\"y\",\"z\",9.5,\"y\")\n",
    "print(tuple.count(\"y\"))\n",
    "print(tuple.count(7))\n",
    "print(tuple.count(9))"
   ]
  },
  {
   "cell_type": "code",
   "execution_count": 25,
   "id": "43b25e24-b41c-430a-9c7f-7a39a094f42f",
   "metadata": {},
   "outputs": [
    {
     "name": "stdout",
     "output_type": "stream",
     "text": [
      "3\n",
      "1\n"
     ]
    }
   ],
   "source": [
    "tuple=(3,7,\"p\",\"y\",\"z\",9.5,\"y\")\n",
    "print(tuple.index(\"y\"))\n",
    "print(tuple.index(7))"
   ]
  },
  {
   "cell_type": "code",
   "execution_count": null,
   "id": "f742d173-582a-44f0-a377-a2d080609602",
   "metadata": {},
   "outputs": [],
   "source": []
  }
 ],
 "metadata": {
  "kernelspec": {
   "display_name": "Python 3 (ipykernel)",
   "language": "python",
   "name": "python3"
  },
  "language_info": {
   "codemirror_mode": {
    "name": "ipython",
    "version": 3
   },
   "file_extension": ".py",
   "mimetype": "text/x-python",
   "name": "python",
   "nbconvert_exporter": "python",
   "pygments_lexer": "ipython3",
   "version": "3.12.4"
  }
 },
 "nbformat": 4,
 "nbformat_minor": 5
}
